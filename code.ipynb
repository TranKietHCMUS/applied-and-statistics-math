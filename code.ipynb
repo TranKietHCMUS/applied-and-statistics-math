{
 "cells": [
  {
   "cell_type": "markdown",
   "metadata": {},
   "source": [
    "# Giải hệ phương trình\n"
   ]
  },
  {
   "cell_type": "markdown",
   "metadata": {},
   "source": [
    "## I - Mã giả\n",
    "\n",
    "### 1. Mã giả thuật toán Gauss-Jordan\n",
    "\n",
    "- Xét nghiệm ma trận $x^T = [x_1, x_2, ..., x_n] \\in M_{1 \\times n}$ với $(x_1, x_2, ..., x_n)$ là nghiệm của phương trình (matrix x X = arr)\n",
    "- Kết hợp 2 ma trận $matrix \\in M_{row \\times col} (\\mathbb{R})$ và ma trận $arr \\in M_{1 \\times col} (\\mathbb{R})$ thành ma trận $A \\in M_{m \\times n} (\\mathbb{R})$ với m = row (số hàng của matrix) và n = col + 1 (số cột của matrix + 1).\n",
    "\n",
    "##### Tìm dạng bậc thang rút gọn của ma trận $A \\in M_{m \\times (n + 1)} (\\mathbb{R})$\n",
    "\n",
    "row = số hàng của ma trận A\n",
    "col = số cột của ma trận A\n",
    "\n",
    "**Bước 1:** Cho i := 0, j := 0.\n",
    "\n",
    "**Bước 2:** Nếu i >= m hoặc j >= n thì kết thúc.\n",
    "\n",
    "**Bước 3:**\n",
    "\n",
    "- Nếu $A_{i, j} \\neq0$, thực hiện các phép biến đổi sau:\n",
    "  $$A_{i} = \\frac{A_{i}}{A_{i, j}}$$\n",
    "  $$A_{k} - A_{k, j} * A_{i}, \\forall k \\neq i$$\n",
    "- Sau đó, i := i + 1, j := j + 1 và quay về Bước 2.\n",
    "- Nếu $A_{i, j}$ = 0 thì sang Bước 4.\n",
    "\n",
    "**Bước 4:**\n",
    "\n",
    "- Nếu $A_{k, j} \\neq 0$ với một k > i nào đó thì chọn một k như vậy và thực hiện phép biến đổi dòng $A_{i}$ và $A_{k}$ và quay về Bước 3.\n",
    "- Nếu $A_{k, j}$ = 0 với mọi k > i thì j := j + 1 và quay về Bước 2.\n",
    "\n",
    "### 2. Mã giả giải hệ phương trình\n",
    "\n",
    "**Bước 1:** Tính rank(A) và rank(matrix). Hàm chuyển ma trận về dạng gauss-jordan có trả về kết quả là rank của ma trận đó.\n",
    "\n",
    "**Bước 2:**\n",
    "\n",
    "- Nếu rank(A) < rank(matrix) thì hệ phương trình vô nghiệm.\n",
    "- Nếu rank(A) = rank(matrix) thì hệ phương trình có nghiệm. Sang bước 3.\n",
    "\n",
    "**Bước 3:**\n",
    "\n",
    "- Nếu rank(A) = số cột của ma trận matrix (col - 1) thì hệ phương trình có 1 nghiệm duy nhất. Khi đó $x_{i}$ = $arr_{i}$ với mọi i từ 0 tới row - 1.\n",
    "- Nếu rank(A) < số cột của ma trận matrix (col - 1) thì hệ phương trình có vô số nghiệm. Sang bước 4.\n",
    "\n",
    "**Bước 4:**\n",
    "\n",
    "- Đánh dấu tất cả các phần tử phụ thuộc (phần tử mà tại cột của nó có xuất hiện số 1 đầu tiên của dòng nào đó), lưu lại dòng đó tương ứng với phần tử đó. (nếu phần tử phụ thuộc thì là True, ngược lại là False)\n",
    "- Duyệt qua mảng bool đánh dấu các phần tử. Nếu phần tử không phụ thuộc thì xuất ra theo biến (ví dụ $x_{k}$ = 'tk'). Ngược lại nếu phần tử đó là phụ thuộc thì duyệt qua dòng mà đã được lưu lại tương ứng với phần tử đó, chuyển vế các biến còn lại qua bên phải và xuất ra kết quả.\n"
   ]
  },
  {
   "cell_type": "markdown",
   "metadata": {},
   "source": [
    "## II - Chương trình bằng python\n"
   ]
  },
  {
   "cell_type": "code",
   "execution_count": 1,
   "metadata": {},
   "outputs": [],
   "source": [
    "import numpy as np"
   ]
  },
  {
   "cell_type": "markdown",
   "metadata": {},
   "source": [
    "1. Nhập ma trận\n"
   ]
  },
  {
   "cell_type": "code",
   "execution_count": 2,
   "metadata": {},
   "outputs": [],
   "source": [
    "row = int(input(\"Enter the number of rows of the matrix: \"))\n",
    "col = int(input(\"Enter the number of columns of the matrix: \"))\n",
    "\n",
    "matrix = np.zeros((row, col))\n",
    "for i in range(row):\n",
    "    for j in range(col):\n",
    "        matrix[i][j] = float(input(\"Enter the element matrix[\" + str(i) + \"][\" + str(j) + \"]: \"))\n",
    "\n",
    "arr = np.zeros(row)\n",
    "for i in range(row):\n",
    "    arr[i] = float(input(\"Enter arr[\" + str(i) + \"]: \"))\n",
    "\n",
    "# matrix = np.array([[1, -3, -5, -2, -2], [-2, 6, 11, 5, 3], [-3, 9, 15, 6, 3], [1, -3, -10, -7, 6], [-1, 3, 5, 2, 5]], dtype='float64')\n",
    "# arr = np.array([[0, 0, 0, 0, 0]], dtype='float64')\n",
    "# (row, col) = np.shape(matrix)\n",
    "A = np.concatenate((matrix,np.reshape(arr,(-1,1))),axis=1)"
   ]
  },
  {
   "cell_type": "markdown",
   "metadata": {},
   "source": [
    "2. Chuyển ma trận về dạng bậc thang rút gọn\n"
   ]
  },
  {
   "cell_type": "code",
   "execution_count": 3,
   "metadata": {},
   "outputs": [],
   "source": [
    "def ConvertToGaussJordanForm(A):\n",
    "    (m, n) = np.shape(A)\n",
    "    i = 0\n",
    "    j = 0 \n",
    "    while (i < m) and (j < n):\n",
    "        temp = i\n",
    "        while (temp < m) and (A[temp][j] == 0):\n",
    "            temp += 1\n",
    "        if (temp == m):\n",
    "            j += 1\n",
    "            continue\n",
    "        A[i], A[temp] = A[temp], A[i]\n",
    "        A[i] = A[i] / A[i][j] # --> A[i][j] = 1 (tất cả phần tử trong hàng chia cho A[i][j])\n",
    "        for k in range (m):\n",
    "            if (k != i):\n",
    "                A[k] -= A[k][j] * A[i] # (A[k][j] / A[i][j] * A[i] nhưng vì A[i][j] = 1)\n",
    "        i += 1\n",
    "        j += 1\n",
    "    return i\n",
    "        "
   ]
  },
  {
   "cell_type": "markdown",
   "metadata": {},
   "source": [
    "3. Giải hệ phương trình\n"
   ]
  },
  {
   "cell_type": "code",
   "execution_count": 4,
   "metadata": {},
   "outputs": [
    {
     "name": "stdout",
     "output_type": "stream",
     "text": [
      "Vo so nghiem!\n",
      "x1 = 0.0 + 3.0 * t2 - 3.0 * t4 \n",
      "x2 = t2\n",
      "x3 = -0.0 - 1.0 * t4 \n",
      "x4 = t4\n",
      "x5 = 0.0 \n"
     ]
    }
   ],
   "source": [
    "def SolveTheSystemOfEquations(A, matrix, arr):\n",
    "    rankA = ConvertToGaussJordanForm(A)\n",
    "    arr = A[:,-1]\n",
    "    matrix = A[:,:-1]\n",
    "    rankMatrix = 0\n",
    "    for i in range(row - 1, -1, -1):\n",
    "        cnt = 0\n",
    "        for j in range(col):\n",
    "            if (matrix[i][j] != 0):\n",
    "                cnt += 1\n",
    "        if (cnt != 0):\n",
    "            rankMatrix = i + 1\n",
    "            break\n",
    "    if (rankMatrix < rankA):\n",
    "        print(\"Vo ngiem!\")\n",
    "    else:\n",
    "        if (rankMatrix < col): #vo so nghiem\n",
    "            print (\"Vo so nghiem!\")\n",
    "            pt = [False for i in range(col)]\n",
    "            index = [0 for i in range(col)]\n",
    "            for i in range(row):\n",
    "                for j in range(col):\n",
    "                    if (matrix[i][j] == 1):\n",
    "                        pt[j] = True\n",
    "                        index[j] = i\n",
    "                        break\n",
    "            for i in range(len(pt)):\n",
    "                if (pt[i] == False):\n",
    "                    print(\"x\" + str(i + 1) + \" = t\" + str(i + 1))\n",
    "                else:\n",
    "                    a = \"x\" + str(i + 1) + \" = \" + str(arr[i]) + \" \"\n",
    "                    r = index[i]\n",
    "                    for j in range(col):\n",
    "                        if (i != j) and (matrix[r][j] != 0):\n",
    "                            if (matrix[r][j] < 0):\n",
    "                                a += \"+ \" + str(-matrix[r][j]) + \" * t\" + str(j + 1) + \" \"\n",
    "                            else:\n",
    "                                a += \"- \" + str(matrix[r][j]) + \" * t\" + str(j + 1) + \" \"\n",
    "                    print(a)\n",
    "        elif (rankMatrix == col):\n",
    "            print(\"Co 1 nghiem!\")\n",
    "            for i in range(col):\n",
    "                print(\"x\" + str(i + 1) + \" = \" + str(arr[i]))\n",
    "\n",
    "SolveTheSystemOfEquations(A, matrix, arr)"
   ]
  },
  {
   "cell_type": "markdown",
   "metadata": {},
   "source": [
    "## III - Phân tích độ phức tạp của thuật toán\n",
    "\n",
    "Xét độ phức tạp của thuật toán Gauss. (coi như index của ma trận từ 1 cho dễ tính toán)\n",
    "\n",
    "- 2 biến i chạy từ 1 tới n (số row của A) và j chạy từ 1 tới m (số cột của A).\n",
    "- Khi xét tới dòng i. Rút gọn dòng i và lấy các dòng từ k = i + 1 tới n trừ đi cho dòng i (trong mỗi dòng k đó thì cũng chỉ xét các phần tử của các cột ở sau phần tử khác 0 đầu tiên). Vậy số lần chạy vòng lặp này là r lần (với r là rank của A).\n",
    "- Đặt hàm độ phức tạp theo 3 biến r (rank A), m (số hàng của A) và n (số cột của A) là f(r, m, n).\n",
    "- Ta có:\n",
    "\n",
    "$$f(r, m, n) = \\sum_{i=1}^{r}\\sum_{j=i+1}^{m}\\sum_{k=i+1}^{n}1 = \\sum_{i=1}^{r}\\sum_{j=i+1}^{m}(n - i) = \\sum_{i=1}^{r}(m - i)(n - i)$$\n",
    "$$ = \\sum\\_{i=1}^{r}(mn - (m + n)i + i^2) = rmn - \\frac{(r+1)r(m+n)}{2} + \\frac{r(r+1)(2r+1)}{6}$$\n",
    "\n",
    "- Xét trường hợp ma trận vuông n x n và trường hợp xấu nhất rank A = n => r = m = n. Ta có:\n",
    "\n",
    "$$f(r, m, n) = g(n) = n^3 - \\frac{(n+1).n.2n}{2} + \\frac{n(n+1)(2n+1)}{6} = n^3 - n^3 - n^2 + \\frac{2n^3+3n^2+n}{6}$$\n",
    "$$ = -n^2 + \\frac{n^3}{3} + \\frac{n^2}{2} + \\frac{n}{6} = \\frac{n^3}{3} - \\frac{n^2}{2} + \\frac{n}{6}$$\n",
    "\n",
    "- Vậy độ phức tạp của thuật toán trên là O($\\frac{n^3}{3}$).\n"
   ]
  }
 ],
 "metadata": {
  "kernelspec": {
   "display_name": "DE",
   "language": "python",
   "name": "python3"
  },
  "language_info": {
   "codemirror_mode": {
    "name": "ipython",
    "version": 3
   },
   "file_extension": ".py",
   "mimetype": "text/x-python",
   "name": "python",
   "nbconvert_exporter": "python",
   "pygments_lexer": "ipython3",
   "version": "3.8.18"
  }
 },
 "nbformat": 4,
 "nbformat_minor": 2
}
